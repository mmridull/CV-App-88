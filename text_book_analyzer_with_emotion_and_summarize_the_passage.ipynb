{
  "nbformat": 4,
  "nbformat_minor": 0,
  "metadata": {
    "colab": {
      "provenance": [],
      "toc_visible": true,
      "authorship_tag": "ABX9TyOQUbhtjLx0MsMeqUSU7H6Y",
      "include_colab_link": true
    },
    "kernelspec": {
      "name": "python3",
      "display_name": "Python 3"
    },
    "language_info": {
      "name": "python"
    }
  },
  "cells": [
    {
      "cell_type": "markdown",
      "metadata": {
        "id": "view-in-github",
        "colab_type": "text"
      },
      "source": [
        "<a href=\"https://colab.research.google.com/github/mmridull/CV-App-88/blob/main/text_book_analyzer_with_emotion_and_summarize_the_passage.ipynb\" target=\"_parent\"><img src=\"https://colab.research.google.com/assets/colab-badge.svg\" alt=\"Open In Colab\"/></a>"
      ]
    },
    {
      "cell_type": "code",
      "execution_count": 9,
      "metadata": {
        "colab": {
          "base_uri": "https://localhost:8080/"
        },
        "id": "pjuzhL71tQDt",
        "outputId": "ea1c8627-8bff-4539-9d91-7d47c544e600",
        "collapsed": true
      },
      "outputs": [
        {
          "output_type": "stream",
          "name": "stdout",
          "text": [
            "Requirement already satisfied: sumy in /usr/local/lib/python3.10/dist-packages (0.11.0)\n",
            "Requirement already satisfied: docopt<0.7,>=0.6.1 in /usr/local/lib/python3.10/dist-packages (from sumy) (0.6.2)\n",
            "Requirement already satisfied: breadability>=0.1.20 in /usr/local/lib/python3.10/dist-packages (from sumy) (0.1.20)\n",
            "Requirement already satisfied: requests>=2.7.0 in /usr/local/lib/python3.10/dist-packages (from sumy) (2.32.3)\n",
            "Requirement already satisfied: pycountry>=18.2.23 in /usr/local/lib/python3.10/dist-packages (from sumy) (24.6.1)\n",
            "Requirement already satisfied: nltk>=3.0.2 in /usr/local/lib/python3.10/dist-packages (from sumy) (3.9.1)\n",
            "Requirement already satisfied: chardet in /usr/local/lib/python3.10/dist-packages (from breadability>=0.1.20->sumy) (5.2.0)\n",
            "Requirement already satisfied: lxml>=2.0 in /usr/local/lib/python3.10/dist-packages (from breadability>=0.1.20->sumy) (5.3.0)\n",
            "Requirement already satisfied: click in /usr/local/lib/python3.10/dist-packages (from nltk>=3.0.2->sumy) (8.1.7)\n",
            "Requirement already satisfied: joblib in /usr/local/lib/python3.10/dist-packages (from nltk>=3.0.2->sumy) (1.4.2)\n",
            "Requirement already satisfied: regex>=2021.8.3 in /usr/local/lib/python3.10/dist-packages (from nltk>=3.0.2->sumy) (2024.11.6)\n",
            "Requirement already satisfied: tqdm in /usr/local/lib/python3.10/dist-packages (from nltk>=3.0.2->sumy) (4.67.1)\n",
            "Requirement already satisfied: charset-normalizer<4,>=2 in /usr/local/lib/python3.10/dist-packages (from requests>=2.7.0->sumy) (3.4.0)\n",
            "Requirement already satisfied: idna<4,>=2.5 in /usr/local/lib/python3.10/dist-packages (from requests>=2.7.0->sumy) (3.10)\n",
            "Requirement already satisfied: urllib3<3,>=1.21.1 in /usr/local/lib/python3.10/dist-packages (from requests>=2.7.0->sumy) (2.2.3)\n",
            "Requirement already satisfied: certifi>=2017.4.17 in /usr/local/lib/python3.10/dist-packages (from requests>=2.7.0->sumy) (2024.12.14)\n",
            "Choose input method:\n",
            "1. Hardcoded string\n",
            "2. User input\n",
            "3. Input from a file\n",
            "Enter your choice (1/2/3): 3\n",
            "Enter the file path: /content/TKMFullText.pdf\n",
            "\n",
            "Analysis Results:\n",
            "Total Words: 121498\n",
            "Predominant Emotion: sadness\n",
            "Possible Books: ['Book 1', 'Book 2', 'Book 3']\n",
            "Summary: 1.<^O{ë:ÒñêÁ¯¡'~¾%b\u0002»Ö\u0002ÄÇz\b$\\\u0012 ³8ëLÆ\u0005©ì¹»P\u001bp¼ÿZ T1\u001bj¤É ×Tn3õQmq@W\to\táºF\u000f®p½Hk¬Éµ\u0005ìÊí²AÚIØE Û]8÷{±øsñ\u0000\u0003\u0000}7õô endstream endobj 340 0 obj <</Contents 341 0 R/CropBox[0.0 0.0 612.0 792.0]/ID 910 0 R/MediaBox[0.0 0.0 612.0 792.0]/Parent 854 0 R/Resources<</Font<</T1_0 907 0 R>>/ProcSet[/PDF/Text]>>/Rotate 0/Type/Page>> endobj 341 0 obj <</Filter/FlateDecode/Length 1207>>stream HtV]oã6\u0010|7àÿ°éÁQm_réÇCq×\u0014¸+Ú\u0003\b(\u000e0PP&-ñD:ªþúÎ²ÀÉm\u0012;³³³ú¶XÓÞm¶t÷ã¼ZüýlZ[¯q¡iñ¡\\|_nþYÓÊ\u0003Ê=n\u0003¾¨ ´Yóï¼äisvâçîmqïÛmqw»¾¥ò¸¸Úm·oßA¤S¡ nU ÜÙ¨#U*Fåñgk©9ÝëÃ>!³}ëlAèGµ[\u0006ªFjô1(s \u0004¤ïÊ¯HìzSÜ¾ÛRy¿¸n°dð\u0014\u0011iïz\u001bG\u0004´Oå\u0013\u0002Õ.À-ã¼4¸£°$¬$a \u0005çc w Ýò¨ÿÅm> |³¸Ú7Ú <4n Ñõxô¨Ò\b endstream endobj 440 0 obj <</Filter/FlateDecode/First 29/Length 336/N 4/Type/ObjStm>>stream hÞÜÏJÃ@\u0010Æ_eÀK 6³Éî&©@Kñ\u000fV¦â¡)Ú&« Ù²oäKxÒ»\u0007/½yÐ7p·JÔC/ Ë2|ÌÌ~ÃÎõ]\u000f\bø®\u000f.×\u0012\u0000¥F\u001bà±\u0000\u0006¦N ·j|iÃè°ÙÄåÝ?½>¾Ëw(ß>î \u0013Y¢(ç5pOöe\u0018b;Ò7#}úËÀ¶T©Px Ä´VÉèdÇ­ÕÅÞ\të\"ËÅ\u000e\"vn±#o\\RÂ®®Î±+Ä6ìÔL(¨C_ÂaçÐ#L³âr©\u0014bkáÆµØWF\u0012¹\u0010*®á·KOXë¬k¯k_.\n"
          ]
        }
      ],
      "source": [
        "!pip install sumy\n",
        "import re\n",
        "from textblob import TextBlob\n",
        "from collections import Counter\n",
        "from sumy.parsers.plaintext import PlaintextParser\n",
        "from sumy.nlp.tokenizers import Tokenizer\n",
        "from sumy.summarizers.lex_rank import LexRankSummarizer\n",
        "\n",
        "def count_words(passage):\n",
        "    words = re.findall(r'\\b\\w+\\b', passage)\n",
        "    return len(words)\n",
        "\n",
        "def determine_emotion(passage):\n",
        "    blob = TextBlob(passage)\n",
        "    sentiment = blob.sentiment.polarity\n",
        "    if sentiment > 0.2:\n",
        "        return \"joy\"\n",
        "    elif sentiment < -0.2:\n",
        "        return \"sadness\"\n",
        "    else:\n",
        "        return \"neutral\"\n",
        "\n",
        "def suggest_possible_books(passage):\n",
        "    keywords = [\"love\", \"war\", \"adventure\", \"mystery\", \"fantasy\"]\n",
        "    words = re.findall(r'\\b\\w+\\b', passage)\n",
        "    keyword_matches = Counter()\n",
        "    for word in words:\n",
        "        if word.lower() in keywords:\n",
        "            keyword_matches[word.lower()] += 1\n",
        "    return [\"Book 1\", \"Book 2\", \"Book 3\"][:3]\n",
        "\n",
        "def summarize_passage(passage):\n",
        "    try:\n",
        "        parser = PlaintextParser.from_string(passage, Tokenizer(\"english\"))\n",
        "        summarizer = LexRankSummarizer()\n",
        "        summary = summarizer(parser.document, 3)\n",
        "        summary_text = \" \".join(str(sentence) for sentence in summary)\n",
        "        return summary_text\n",
        "    except ValueError:\n",
        "        return \"Unable to generate a meaningful summary.\"\n",
        "\n",
        "def analyze_passage(passage):\n",
        "    return {\n",
        "        \"Total Words\": count_words(passage),\n",
        "        \"Predominant Emotion\": determine_emotion(passage),\n",
        "        \"Possible Books\": suggest_possible_books(passage),\n",
        "        \"Summary\": summarize_passage(passage),\n",
        "    }\n",
        "\n",
        "def main():\n",
        "    print(\"Choose input method:\")\n",
        "    print(\"1. Hardcoded string\")\n",
        "    print(\"2. User input\")\n",
        "    print(\"3. Input from a file\")\n",
        "    choice = input(\"Enter your choice (1/2/3): \").strip()\n",
        "    if choice == \"1\":\n",
        "        passage = \"\"\"Calpurnia was something else again. She was all angles and bones; she was\n",
        "nearsighted; she squinted; her hand was wide as a bed slat and twice as hard. She\n",
        "was always ordering me out of the kitchen, asking me why I couldn’t behave as\n",
        "well as Jem when she knew he was older, and calling me home when I wasn’t\n",
        "ready to come. Our battles were epic and one-sided. Calpurnia always won,\n",
        "mainly because Atticus always took her side. She had been with us ever since Jem\n",
        "was born, and I had felt her tyrannical presence as long as I could remember.\"\"\"\n",
        "    elif choice == \"2\":\n",
        "        passage = input(\"Enter the passage: \").strip()\n",
        "    elif choice == \"3\":\n",
        "        file_path = input(\"Enter the file path: \").strip()\n",
        "        try:\n",
        "            with open(file_path, 'r',encoding='latin-1') as file:\n",
        "                passage = file.read()\n",
        "        except FileNotFoundError:\n",
        "            print(\"Error: File not found. Exiting.\")\n",
        "            return\n",
        "    else:\n",
        "        print(\"Invalid choice. Exiting.\")\n",
        "        return\n",
        "    result = analyze_passage(passage)\n",
        "    print(\"\\nAnalysis Results:\")\n",
        "    for key, value in result.items():\n",
        "        print(f\"{key}: {value}\")\n",
        "\n",
        "if __name__ == \"__main__\":\n",
        "    main()\n",
        "\n"
      ]
    }
  ]
}